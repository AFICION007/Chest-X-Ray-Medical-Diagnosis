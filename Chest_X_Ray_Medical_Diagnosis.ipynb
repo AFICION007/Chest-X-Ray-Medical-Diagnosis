{
  "cells": [
    {
      "cell_type": "markdown",
      "metadata": {
        "id": "AXZGaWuihJHg"
      },
      "source": [
        "# Chest X-Ray Medical Diagnosis with Deep Learning"
      ]
    },
    {
      "cell_type": "markdown",
      "metadata": {
        "id": "XI8PBrk_2Z4V"
      },
      "source": [
        "<a name='1'></a>\n",
        "## 1. Import Packages and Functions\n",
        "\n",
        "We'll make use of the following packages:\n",
        "- `numpy` and `pandas` is what we'll use to manipulate our data\n",
        "- `matplotlib.pyplot` and `seaborn` will be used to produce plots for visualization\n",
        "- `util` will provide the locally defined utility functions that have been provided for this assignment\n",
        "\n",
        "We will also use several modules from the `keras` framework for building deep learning models.\n",
        "\n",
        "Run the next cell to import all the necessary packages."
      ]
    },
    {
      "cell_type": "code",
      "execution_count": null,
      "metadata": {
        "id": "Je3yV0Wnn5x8",
        "scrolled": true,
        "outputId": "bb335038-55f6-4e9a-f519-c71134560ee2"
      },
      "outputs": [
        {
          "name": "stderr",
          "output_type": "stream",
          "text": [
            "Using TensorFlow backend.\n"
          ]
        }
      ],
      "source": [
        "import numpy as np\n",
        "import pandas as pd\n",
        "import seaborn as sns\n",
        "import matplotlib.pyplot as plt\n",
        "\n",
        "from keras.preprocessing.image import ImageDataGenerator\n",
        "from keras.applications.densenet import DenseNet121\n",
        "from keras.layers import Dense, GlobalAveragePooling2D\n",
        "from keras.models import Model\n",
        "from keras import backend as K\n",
        "\n",
        "from keras.models import load_model\n",
        "\n",
        "import util\n",
        "from public_tests import *\n",
        "from test_utils import *\n",
        "\n",
        "import tensorflow as tf\n",
        "tf.compat.v1.logging.set_verbosity(tf.compat.v1.logging.ERROR)"
      ]
    },
    {
      "cell_type": "markdown",
      "metadata": {
        "id": "6PMDCWQRn5yA"
      },
      "source": [
        "<a name='2'></a>\n",
        "## 2. Load the Datasets\n",
        "\n",
        "For this assignment, we will be using the [ChestX-ray8 dataset](https://arxiv.org/abs/1705.02315) which contains 108,948 frontal-view X-ray images of 32,717 unique patients. \n",
        "- Each image in the data set contains multiple text-mined labels identifying 14 different pathological conditions. \n",
        "- These in turn can be used by physicians to diagnose 8 different diseases. \n",
        "- We will use this data to develop a single model that will provide binary classification predictions for each of the 14 labeled pathologies. \n",
        "- In other words it will predict 'positive' or 'negative' for each of the pathologies.\n",
        " \n",
        "You can download the entire dataset for free [here](https://nihcc.app.box.com/v/ChestXray-NIHCC). \n",
        "- We have provided a ~1000 image subset of the images for you.\n",
        "- These can be accessed in the folder path stored in the `IMAGE_DIR` variable.\n",
        "\n",
        "The dataset includes a CSV file that provides the labels for each X-ray. \n",
        "\n",
        "To make your job a bit easier, we have processed the labels for our small sample and generated three new files to get you started. These three files are:\n",
        "\n",
        "1. `nih/train-small.csv`: 875 images from our dataset to be used for training.\n",
        "1. `nih/valid-small.csv`: 109 images from our dataset to be used for validation.\n",
        "1. `nih/test.csv`: 420 images from our dataset to be used for testing. \n",
        "\n",
        "This dataset has been annotated by consensus among four different radiologists for 5 of our 14 pathologies:\n",
        "- `Consolidation`\n",
        "- `Edema`\n",
        "- `Effusion`\n",
        "- `Cardiomegaly`\n",
        "- `Atelectasis`"
      ]
    },
    {
      "cell_type": "markdown",
      "metadata": {
        "id": "BA6FfI36hJIC"
      },
      "source": [
        "#### Sidebar on meaning of 'class'\n",
        "It is worth noting that the word **'class'** is used in multiple ways is these discussions. \n",
        "- We sometimes refer to each of the 14 pathological conditions that are labeled in our dataset as a class. \n",
        "- But for each of those pathologies we are attempting to predict whether a certain condition is present (i.e. positive result) or absent (i.e. negative result). \n",
        "    - These two possible labels of 'positive' or 'negative' (or the numerical equivalent of 1 or 0) are also typically referred to as classes. \n",
        "- Moreover, we also use the term in reference to software code 'classes' such as `ImageDataGenerator`.\n",
        "\n",
        "As long as you are aware of all this though, it should not cause you any confusion as the term 'class' is usually clear from the context in which it is used."
      ]
    },
    {
      "cell_type": "markdown",
      "metadata": {
        "id": "ywpUeWjhhJID"
      },
      "source": [
        "<a name='2-1'></a>\n",
        "### 2.1 Loading the Data\n",
        "Let's open these files using the [pandas](https://pandas.pydata.org/) library"
      ]
    },
    {
      "cell_type": "code",
      "execution_count": null,
      "metadata": {
        "colab": {
          "base_uri": "https://localhost:8080/",
          "height": 224
        },
        "id": "5JRSHB7i0t_6",
        "outputId": "69830050-af47-4ebc-946d-d411d0cbdf5b"
      },
      "outputs": [
        {
          "data": {
            "text/html": [
              "<div>\n",
              "<style scoped>\n",
              "    .dataframe tbody tr th:only-of-type {\n",
              "        vertical-align: middle;\n",
              "    }\n",
              "\n",
              "    .dataframe tbody tr th {\n",
              "        vertical-align: top;\n",
              "    }\n",
              "\n",
              "    .dataframe thead th {\n",
              "        text-align: right;\n",
              "    }\n",
              "</style>\n",
              "<table border=\"1\" class=\"dataframe\">\n",
              "  <thead>\n",
              "    <tr style=\"text-align: right;\">\n",
              "      <th></th>\n",
              "      <th>Image</th>\n",
              "      <th>Atelectasis</th>\n",
              "      <th>Cardiomegaly</th>\n",
              "      <th>Consolidation</th>\n",
              "      <th>Edema</th>\n",
              "      <th>Effusion</th>\n",
              "      <th>Emphysema</th>\n",
              "      <th>Fibrosis</th>\n",
              "      <th>Hernia</th>\n",
              "      <th>Infiltration</th>\n",
              "      <th>Mass</th>\n",
              "      <th>Nodule</th>\n",
              "      <th>PatientId</th>\n",
              "      <th>Pleural_Thickening</th>\n",
              "      <th>Pneumonia</th>\n",
              "      <th>Pneumothorax</th>\n",
              "    </tr>\n",
              "  </thead>\n",
              "  <tbody>\n",
              "    <tr>\n",
              "      <th>0</th>\n",
              "      <td>00008270_015.png</td>\n",
              "      <td>0</td>\n",
              "      <td>0</td>\n",
              "      <td>0</td>\n",
              "      <td>0</td>\n",
              "      <td>0</td>\n",
              "      <td>0</td>\n",
              "      <td>0</td>\n",
              "      <td>0</td>\n",
              "      <td>0</td>\n",
              "      <td>0</td>\n",
              "      <td>0</td>\n",
              "      <td>8270</td>\n",
              "      <td>0</td>\n",
              "      <td>0</td>\n",
              "      <td>0</td>\n",
              "    </tr>\n",
              "    <tr>\n",
              "      <th>1</th>\n",
              "      <td>00029855_001.png</td>\n",
              "      <td>1</td>\n",
              "      <td>0</td>\n",
              "      <td>0</td>\n",
              "      <td>0</td>\n",
              "      <td>1</td>\n",
              "      <td>0</td>\n",
              "      <td>0</td>\n",
              "      <td>0</td>\n",
              "      <td>1</td>\n",
              "      <td>0</td>\n",
              "      <td>0</td>\n",
              "      <td>29855</td>\n",
              "      <td>0</td>\n",
              "      <td>0</td>\n",
              "      <td>0</td>\n",
              "    </tr>\n",
              "    <tr>\n",
              "      <th>2</th>\n",
              "      <td>00001297_000.png</td>\n",
              "      <td>0</td>\n",
              "      <td>0</td>\n",
              "      <td>0</td>\n",
              "      <td>0</td>\n",
              "      <td>0</td>\n",
              "      <td>0</td>\n",
              "      <td>0</td>\n",
              "      <td>0</td>\n",
              "      <td>0</td>\n",
              "      <td>0</td>\n",
              "      <td>0</td>\n",
              "      <td>1297</td>\n",
              "      <td>1</td>\n",
              "      <td>0</td>\n",
              "      <td>0</td>\n",
              "    </tr>\n",
              "    <tr>\n",
              "      <th>3</th>\n",
              "      <td>00012359_002.png</td>\n",
              "      <td>0</td>\n",
              "      <td>0</td>\n",
              "      <td>0</td>\n",
              "      <td>0</td>\n",
              "      <td>0</td>\n",
              "      <td>0</td>\n",
              "      <td>0</td>\n",
              "      <td>0</td>\n",
              "      <td>0</td>\n",
              "      <td>0</td>\n",
              "      <td>0</td>\n",
              "      <td>12359</td>\n",
              "      <td>0</td>\n",
              "      <td>0</td>\n",
              "      <td>0</td>\n",
              "    </tr>\n",
              "    <tr>\n",
              "      <th>4</th>\n",
              "      <td>00017951_001.png</td>\n",
              "      <td>0</td>\n",
              "      <td>0</td>\n",
              "      <td>0</td>\n",
              "      <td>0</td>\n",
              "      <td>0</td>\n",
              "      <td>0</td>\n",
              "      <td>0</td>\n",
              "      <td>0</td>\n",
              "      <td>1</td>\n",
              "      <td>0</td>\n",
              "      <td>0</td>\n",
              "      <td>17951</td>\n",
              "      <td>0</td>\n",
              "      <td>0</td>\n",
              "      <td>0</td>\n",
              "    </tr>\n",
              "  </tbody>\n",
              "</table>\n",
              "</div>"
            ],
            "text/plain": [
              "              Image  Atelectasis  Cardiomegaly  Consolidation  Edema  \\\n",
              "0  00008270_015.png            0             0              0      0   \n",
              "1  00029855_001.png            1             0              0      0   \n",
              "2  00001297_000.png            0             0              0      0   \n",
              "3  00012359_002.png            0             0              0      0   \n",
              "4  00017951_001.png            0             0              0      0   \n",
              "\n",
              "   Effusion  Emphysema  Fibrosis  Hernia  Infiltration  Mass  Nodule  \\\n",
              "0         0          0         0       0             0     0       0   \n",
              "1         1          0         0       0             1     0       0   \n",
              "2         0          0         0       0             0     0       0   \n",
              "3         0          0         0       0             0     0       0   \n",
              "4         0          0         0       0             1     0       0   \n",
              "\n",
              "   PatientId  Pleural_Thickening  Pneumonia  Pneumothorax  \n",
              "0       8270                   0          0             0  \n",
              "1      29855                   0          0             0  \n",
              "2       1297                   1          0             0  \n",
              "3      12359                   0          0             0  \n",
              "4      17951                   0          0             0  "
            ]
          },
          "execution_count": 2,
          "metadata": {},
          "output_type": "execute_result"
        }
      ],
      "source": [
        "train_df = pd.read_csv(\"data/nih/train-small.csv\")\n",
        "valid_df = pd.read_csv(\"data/nih/valid-small.csv\")\n",
        "\n",
        "test_df = pd.read_csv(\"data/nih/test.csv\")\n",
        "\n",
        "train_df.head()"
      ]
    },
    {
      "cell_type": "code",
      "execution_count": null,
      "metadata": {
        "id": "mrDoMlsun5yE"
      },
      "outputs": [],
      "source": [
        "labels = ['Cardiomegaly', \n",
        "          'Emphysema', \n",
        "          'Effusion', \n",
        "          'Hernia', \n",
        "          'Infiltration', \n",
        "          'Mass', \n",
        "          'Nodule', \n",
        "          'Atelectasis',\n",
        "          'Pneumothorax',\n",
        "          'Pleural_Thickening', \n",
        "          'Pneumonia', \n",
        "          'Fibrosis', \n",
        "          'Edema', \n",
        "          'Consolidation']"
      ]
    },
    {
      "cell_type": "markdown",
      "metadata": {
        "id": "iKwFwpHLn5yG"
      },
      "source": [
        "<a name='2-2'></a>\n",
        "### 2.2 Preventing Data Leakage\n",
        "It is worth noting that our dataset contains multiple images for each patient. This could be the case, for example, when a patient has taken multiple X-ray images at different times during their hospital visits. In our data splitting, we have ensured that the split is done on the patient level so that there is no data \"leakage\" between the train, validation, and test datasets."
      ]
    },
    {
      "cell_type": "code",
      "execution_count": null,
      "metadata": {
        "id": "Jz6dwTSrUcKc"
      },
      "outputs": [],
      "source": [
        "def check_for_leakage(df1, df2, patient_col):\n",
        "    \"\"\"\n",
        "    Return True if there any patients are in both df1 and df2.\n",
        "\n",
        "    Args:\n",
        "        df1 (dataframe): dataframe describing first dataset\n",
        "        df2 (dataframe): dataframe describing second dataset\n",
        "        patient_col (str): string name of column with patient IDs\n",
        "    \n",
        "    Returns:\n",
        "        leakage (bool): True if there is leakage, otherwise False\n",
        "    \"\"\"\n",
        "\n",
        "    ### START CODE HERE (REPLACE INSTANCES OF 'None' with your code) ###\n",
        "    \n",
        "    df1_patients_unique = set(df1[patient_col].value_counts().keys())\n",
        "    df2_patients_unique = set(df2[patient_col].value_counts().keys())\n",
        "    \n",
        "    patients_in_both_groups = df1_patients_unique.intersection(df2_patients_unique)\n",
        "\n",
        "    # leakage contains true if there is patient overlap, otherwise false.\n",
        "    \n",
        "    leakage = True # boolean (true if there is at least 1 patient in both groups)\n",
        "    if len(patients_in_both_groups) == 0:\n",
        "        leakage = False\n",
        "    \n",
        "    ### END CODE HERE ###\n",
        "    \n",
        "    return leakage"
      ]
    },
    {
      "cell_type": "code",
      "execution_count": null,
      "metadata": {
        "colab": {
          "base_uri": "https://localhost:8080/",
          "height": 544
        },
        "id": "Rh2p1krrV1g5",
        "outputId": "9ee44d93-8ef1-4c98-f9fa-65b309b9b889"
      },
      "outputs": [
        {
          "name": "stdout",
          "output_type": "stream",
          "text": [
            "Test Case 1\n",
            "\n",
            "df1\n",
            "   patient_id\n",
            "0           0\n",
            "1           1\n",
            "2           2\n",
            "df2\n",
            "   patient_id\n",
            "0           2\n",
            "1           3\n",
            "2           4\n",
            "leakage output: True \n",
            "-------------------------------------\n",
            "Test Case 2\n",
            "\n",
            "df1\n",
            "   patient_id\n",
            "0           0\n",
            "1           1\n",
            "2           2\n",
            "df2\n",
            "   patient_id\n",
            "0           3\n",
            "1           4\n",
            "2           5\n",
            "leakage output: False \n",
            "\n",
            "\u001b[92m All tests passed.\n"
          ]
        }
      ],
      "source": [
        "### do not edit this code cell    \n",
        "check_for_leakage_test(check_for_leakage)"
      ]
    },
    {
      "cell_type": "markdown",
      "metadata": {
        "id": "FCWkiLudW_Il"
      },
      "source": [
        "Run the next cell to check if there are patients in both train and test or in both valid and test."
      ]
    },
    {
      "cell_type": "code",
      "execution_count": null,
      "metadata": {
        "colab": {
          "base_uri": "https://localhost:8080/",
          "height": 51
        },
        "id": "AMF3Wd3yW-RS",
        "outputId": "e417c9ea-c06b-49a7-af35-d802bc1725eb"
      },
      "outputs": [
        {
          "name": "stdout",
          "output_type": "stream",
          "text": [
            "leakage between train and valid: True\n",
            "leakage between train and test: False\n",
            "leakage between valid and test: False\n"
          ]
        }
      ],
      "source": [
        "print(\"leakage between train and valid: {}\".format(check_for_leakage(train_df, valid_df, 'PatientId')))\n",
        "print(\"leakage between train and test: {}\".format(check_for_leakage(train_df, test_df, 'PatientId')))\n",
        "print(\"leakage between valid and test: {}\".format(check_for_leakage(valid_df, test_df, 'PatientId')))"
      ]
    },
    {
      "cell_type": "markdown",
      "metadata": {
        "id": "JBWZ5l4ln5yH"
      },
      "source": [
        "<a name='2-3'></a>\n",
        "### 2.3 Preparing Images"
      ]
    },
    {
      "cell_type": "markdown",
      "metadata": {
        "id": "SPjuZHPpn5yH"
      },
      "source": [
        "With our dataset splits ready, we can now proceed with setting up our model to consume them. \n",
        "- For this we will use the off-the-shelf [ImageDataGenerator](https://keras.io/preprocessing/image/) class from the Keras framework, which allows us to build a \"generator\" for images specified in a dataframe. \n",
        "- This class also provides support for basic data augmentation such as random horizontal flipping of images.\n",
        "- We also use the generator to transform the values in each batch so that their mean is $0$ and their standard deviation is 1. \n",
        "    - This will facilitate model training by standardizing the input distribution. \n",
        "- The generator also converts our single channel X-ray images (gray-scale) to a three-channel format by repeating the values in the image across all channels.\n",
        "    - We will want this because the pre-trained model that we'll use requires three-channel inputs.\n",
        "\n",
        "Since it is mainly a matter of reading and understanding Keras documentation, we have implemented the generator for you. There are a few things to note: \n",
        "1. We normalize the mean and standard deviation of the data\n",
        "3. We shuffle the input after each epoch.\n",
        "4. We set the image size to be 320px by 320px"
      ]
    },
    {
      "cell_type": "code",
      "execution_count": null,
      "metadata": {
        "id": "nAgVGOAju8pX"
      },
      "outputs": [],
      "source": [
        "def get_train_generator(df, image_dir, x_col, y_cols, shuffle=True, batch_size=8, seed=1, target_w = 320, target_h = 320):\n",
        "    \"\"\"\n",
        "    Return generator for training set, normalizing using batch\n",
        "    statistics.\n",
        "\n",
        "    Args:\n",
        "      train_df (dataframe): dataframe specifying training data.\n",
        "      image_dir (str): directory where image files are held.\n",
        "      x_col (str): name of column in df that holds filenames.\n",
        "      y_cols (list): list of strings that hold y labels for images.\n",
        "      batch_size (int): images per batch to be fed into model during training.\n",
        "      seed (int): random seed.\n",
        "      target_w (int): final width of input images.\n",
        "      target_h (int): final height of input images.\n",
        "    \n",
        "    Returns:\n",
        "        train_generator (DataFrameIterator): iterator over training set\n",
        "    \"\"\"        \n",
        "    print(\"getting train generator...\") \n",
        "    # normalize images\n",
        "    image_generator = ImageDataGenerator(\n",
        "        samplewise_center=True,\n",
        "        samplewise_std_normalization= True)\n",
        "    \n",
        "    # flow from directory with specified batch size\n",
        "    # and target image size\n",
        "    generator = image_generator.flow_from_dataframe(\n",
        "            dataframe=df,\n",
        "            directory=image_dir,\n",
        "            x_col=x_col,\n",
        "            y_col=y_cols,\n",
        "            class_mode=\"raw\",\n",
        "            batch_size=batch_size,\n",
        "            shuffle=shuffle,\n",
        "            seed=seed,\n",
        "            target_size=(target_w,target_h))\n",
        "    \n",
        "    return generator"
      ]
    },
    {
      "cell_type": "markdown",
      "metadata": {
        "id": "vpRXR-3_u7cl"
      },
      "source": [
        "#### Build a separate generator for valid and test sets\n",
        "\n",
        "Now we need to build a new generator for validation and testing data. \n",
        "\n",
        "**Why can't we use the same generator as for the training data?**\n",
        "\n",
        "Look back at the generator we wrote for the training data. \n",
        "- It normalizes each image **per batch**, meaning that it uses batch statistics. \n",
        "- We should not do this with the test and validation data, since in a real life scenario we don't process incoming images a batch at a time (we process one image at a time). \n",
        "- Knowing the average per batch of test data would effectively give our model an advantage.  \n",
        "    - The model should not have any information about the test data.\n",
        "\n",
        "What we need to do is normalize incoming test data using the statistics **computed from the training set**. \n",
        "* We implement this in the function below. \n",
        "* There is one technical note. Ideally, we would want to compute our sample mean and standard deviation using the entire training set. \n",
        "* However, since this is extremely large, that would be very time consuming. \n",
        "* In the interest of time, we'll take a random sample of the dataset and calcualte the sample mean and sample standard deviation."
      ]
    },
    {
      "cell_type": "code",
      "execution_count": null,
      "metadata": {
        "id": "UtWEAfAnrhMq"
      },
      "outputs": [],
      "source": [
        "def get_test_and_valid_generator(valid_df, test_df, train_df, image_dir, x_col, y_cols, sample_size=100, batch_size=8, seed=1, target_w = 320, target_h = 320):\n",
        "    \"\"\"\n",
        "    Return generator for validation set and test set using \n",
        "    normalization statistics from training set.\n",
        "\n",
        "    Args:\n",
        "      valid_df (dataframe): dataframe specifying validation data.\n",
        "      test_df (dataframe): dataframe specifying test data.\n",
        "      train_df (dataframe): dataframe specifying training data.\n",
        "      image_dir (str): directory where image files are held.\n",
        "      x_col (str): name of column in df that holds filenames.\n",
        "      y_cols (list): list of strings that hold y labels for images.\n",
        "      sample_size (int): size of sample to use for normalization statistics.\n",
        "      batch_size (int): images per batch to be fed into model during training.\n",
        "      seed (int): random seed.\n",
        "      target_w (int): final width of input images.\n",
        "      target_h (int): final height of input images.\n",
        "    \n",
        "    Returns:\n",
        "        test_generator (DataFrameIterator) and valid_generator: iterators over test set and validation set respectively\n",
        "    \"\"\"\n",
        "    print(\"getting train and valid generators...\")\n",
        "    # get generator to sample dataset\n",
        "    raw_train_generator = ImageDataGenerator().flow_from_dataframe(\n",
        "        dataframe=train_df, \n",
        "        directory=IMAGE_DIR, \n",
        "        x_col=\"Image\", \n",
        "        y_col=labels, \n",
        "        class_mode=\"raw\", \n",
        "        batch_size=sample_size, \n",
        "        shuffle=True, \n",
        "        target_size=(target_w, target_h))\n",
        "    \n",
        "    # get data sample\n",
        "    batch = raw_train_generator.next()\n",
        "    data_sample = batch[0]\n",
        "\n",
        "    # use sample to fit mean and std for test set generator\n",
        "    image_generator = ImageDataGenerator(\n",
        "        featurewise_center=True,\n",
        "        featurewise_std_normalization= True)\n",
        "    \n",
        "    # fit generator to sample from training data\n",
        "    image_generator.fit(data_sample)\n",
        "\n",
        "    # get test generator\n",
        "    valid_generator = image_generator.flow_from_dataframe(\n",
        "            dataframe=valid_df,\n",
        "            directory=image_dir,\n",
        "            x_col=x_col,\n",
        "            y_col=y_cols,\n",
        "            class_mode=\"raw\",\n",
        "            batch_size=batch_size,\n",
        "            shuffle=False,\n",
        "            seed=seed,\n",
        "            target_size=(target_w,target_h))\n",
        "\n",
        "    test_generator = image_generator.flow_from_dataframe(\n",
        "            dataframe=test_df,\n",
        "            directory=image_dir,\n",
        "            x_col=x_col,\n",
        "            y_col=y_cols,\n",
        "            class_mode=\"raw\",\n",
        "            batch_size=batch_size,\n",
        "            shuffle=False,\n",
        "            seed=seed,\n",
        "            target_size=(target_w,target_h))\n",
        "    return valid_generator, test_generator"
      ]
    },
    {
      "cell_type": "markdown",
      "metadata": {
        "id": "ga4RZN5On5yL"
      },
      "source": [
        "With our generator function ready, let's make one generator for our training data and one each of our test and  validation datasets."
      ]
    },
    {
      "cell_type": "code",
      "execution_count": null,
      "metadata": {
        "colab": {
          "base_uri": "https://localhost:8080/",
          "height": 119
        },
        "id": "rNE3HWRbn5yL",
        "outputId": "4c6b1c25-a33d-42e0-f442-40971ca52a3f",
        "scrolled": true
      },
      "outputs": [
        {
          "name": "stdout",
          "output_type": "stream",
          "text": [
            "getting train generator...\n",
            "Found 1000 validated image filenames.\n",
            "getting train and valid generators...\n",
            "Found 1000 validated image filenames.\n",
            "Found 200 validated image filenames.\n",
            "Found 420 validated image filenames.\n"
          ]
        }
      ],
      "source": [
        "IMAGE_DIR = \"data/nih/images-small/\"\n",
        "train_generator = get_train_generator(train_df, IMAGE_DIR, \"Image\", labels)\n",
        "valid_generator, test_generator= get_test_and_valid_generator(valid_df, test_df, train_df, IMAGE_DIR, \"Image\", labels)"
      ]
    },
    {
      "cell_type": "markdown",
      "metadata": {
        "id": "pYtXacDgn5yN"
      },
      "source": [
        "Let's peek into what the generator gives our model during training and validation. We can do this by calling the `__get_item__(index)` function:"
      ]
    },
    {
      "cell_type": "code",
      "execution_count": null,
      "metadata": {
        "colab": {
          "base_uri": "https://localhost:8080/",
          "height": 303
        },
        "id": "Jh77vpN-n5yO",
        "outputId": "c4e68e79-e8f2-4bb9-8909-072c9dd2f805"
      },
      "outputs": [
        {
          "name": "stderr",
          "output_type": "stream",
          "text": [
            "Clipping input data to the valid range for imshow with RGB data ([0..1] for floats or [0..255] for integers).\n"
          ]
        },
        {
          "data": {
            "image/png": "[encoded data removed]",
            "text/plain": [
              "<Figure size 432x288 with 1 Axes>"
            ]
          },
          "metadata": {},
          "output_type": "display_data"
        }
      ],
      "source": [
        "x, y = train_generator.__getitem__(0)\n",
        "plt.imshow(x[0]);"
      ]
    },
    {
      "cell_type": "markdown",
      "metadata": {
        "id": "9WBMpRxcDMgp"
      },
      "source": [
        "<a name='3'></a>\n",
        "## 3. Model Development\n",
        "\n",
        "Now we'll move on to model training and development. We have a few practical challenges to deal with before actually training a neural network, though. The first is class imbalance."
      ]
    },
    {
      "cell_type": "markdown",
      "metadata": {
        "id": "qHBSgvxfn5yR"
      },
      "source": [
        "<a name='3-1'></a>\n",
        "### 3.1 Addressing Class Imbalance\n",
        "One of the challenges with working with medical diagnostic datasets is the large class imbalance present in such datasets. Let's plot the frequency of each of the labels in our dataset:"
      ]
    },
    {
      "cell_type": "code",
      "execution_count": null,
      "metadata": {
        "colab": {
          "base_uri": "https://localhost:8080/",
          "height": 365
        },
        "id": "-OvyPe5en5yR",
        "outputId": "077747ad-7ab8-463d-8335-6b243cb29e63"
      },
      "outputs": [
        {
          "data": {
            "image/png": "[encoded data removed]",
            "text/plain": [
              "<Figure size 432x288 with 1 Axes>"
            ]
          },
          "metadata": {},
          "output_type": "display_data"
        }
      ],
      "source": [
        "plt.xticks(rotation=90)\n",
        "plt.bar(x=labels, height=np.mean(train_generator.labels, axis=0))\n",
        "plt.title(\"Frequency of Each Class\")\n",
        "plt.show()"
      ]
    },
    {
      "cell_type": "markdown",
      "metadata": {
        "id": "DhbL9dXDhJIk"
      },
      "source": [
        "We can see from this plot that the prevalance of positive cases varies significantly across the different pathologies. (These trends mirror the ones in the full dataset as well.) \n",
        "* The `Hernia` pathology has the greatest imbalance with the proportion of positive training cases being about 0.2%. \n",
        "* But even the `Infiltration` pathology, which has the least amount of imbalance, has only 17.5% of the training cases labelled positive.\n",
        "\n",
        "Ideally, we would train our model using an evenly balanced dataset so that the positive and negative training cases would contribute equally to the loss. \n",
        "\n",
        "If we use a normal cross-entropy loss function with a highly unbalanced dataset, as we are seeing here, then the algorithm will be incentivized to prioritize the majority class (i.e negative in our case), since it contributes more to the loss. "
      ]
    },
    {
      "cell_type": "markdown",
      "metadata": {
        "id": "3nHRd9p9n5yU"
      },
      "source": [
        "#### Impact of class imbalance on loss function\n",
        "\n",
        "Let's take a closer look at this. Assume we would have used a normal cross-entropy loss for each pathology. We recall that the cross-entropy loss contribution from the $i^{th}$ training data case is:\n",
        "\n",
        "$$\\mathcal{L}_{cross-entropy}(x_i) = -(y_i \\log(f(x_i)) + (1-y_i) \\log(1-f(x_i))),$$\n",
        "\n",
        "where $x_i$ and $y_i$ are the input features and the label, and $f(x_i)$ is the output of the model, i.e. the probability that it is positive. \n",
        "\n",
        "Note that for any training case, either $y_i=0$ or else $(1-y_i)=0$, so only one of these terms contributes to the loss (the other term is multiplied by zero, and becomes zero). \n",
        "\n",
        "We can rewrite the overall average cross-entropy loss over the entire training set $\\mathcal{D}$ of size $N$ as follows: \n",
        "\n",
        "$$\\mathcal{L}_{cross-entropy}(\\mathcal{D}) = - \\frac{1}{N}\\big( \\sum_{\\text{positive examples}} \\log (f(x_i)) + \\sum_{\\text{negative examples}} \\log(1-f(x_i)) \\big).$$\n",
        "\n",
        "Using this formulation, we can see that if there is a large imbalance with very few positive training cases, for example, then the loss will be dominated by the negative class. Summing the contribution over all the training cases for each class (i.e. pathological condition), we see that the contribution of each class (i.e. positive or negative) is: \n",
        "\n",
        "$$freq_{p} = \\frac{\\text{number of positive examples}}{N} $$\n",
        "\n",
        "$$\\text{and}$$\n",
        "\n",
        "$$freq_{n} = \\frac{\\text{number of negative examples}}{N}.$$"
      ]
    },
    {
      "cell_type": "code",
      "execution_count": null,
      "metadata": {
        "id": "TpDGeY2cChYD"
      },
      "outputs": [],
      "source": [
        "def compute_class_freqs(labels):\n",
        "    \"\"\"\n",
        "    Compute positive and negative frequences for each class.\n",
        "\n",
        "    Args:\n",
        "        labels (np.array): matrix of labels, size (num_examples, num_classes)\n",
        "    Returns:\n",
        "        positive_frequencies (np.array): array of positive frequences for each\n",
        "                                         class, size (num_classes)\n",
        "        negative_frequencies (np.array): array of negative frequences for each\n",
        "                                         class, size (num_classes)\n",
        "    \"\"\"\n",
        "    ### START CODE HERE (REPLACE INSTANCES OF 'None' with your code) ###\n",
        "    \n",
        "    # total number of patients (rows)\n",
        "    N = labels.shape[0]\n",
        "    \n",
        "    positive_frequencies = sum(labels)/N\n",
        "    negative_frequencies = 1 - positive_frequencies\n",
        "\n",
        "    ### END CODE HERE ###\n",
        "    return positive_frequencies, negative_frequencies"
      ]
    },
    {
      "cell_type": "code",
      "execution_count": null,
      "metadata": {
        "colab": {
          "base_uri": "https://localhost:8080/",
          "height": 153
        },
        "id": "BqidQvCaD_xi",
        "outputId": "56a5905a-e61b-47a8-f444-aa89d7481c44"
      },
      "outputs": [
        {
          "name": "stdout",
          "output_type": "stream",
          "text": [
            "Labels:\n",
            "[[1 0 0]\n",
            " [0 1 1]\n",
            " [1 0 1]\n",
            " [1 1 1]\n",
            " [1 0 1]]\n",
            "\n",
            "Pos Freqs:  [0.8 0.4 0.8]\n",
            "Neg Freqs:  [0.2 0.6 0.2] \n",
            "\n",
            "\u001b[92m All tests passed.\n"
          ]
        }
      ],
      "source": [
        "### do not edit this code cell       \n",
        "compute_class_freqs_test(compute_class_freqs)"
      ]
    },
    {
      "cell_type": "markdown",
      "metadata": {
        "id": "Iye-sQoOFG37"
      },
      "source": [
        "Now we'll compute frequencies for our training data."
      ]
    },
    {
      "cell_type": "code",
      "execution_count": null,
      "metadata": {
        "id": "LoxM5jQ0E30D",
        "outputId": "59aa752a-506b-4047-c421-1f7cf1a3d29a"
      },
      "outputs": [
        {
          "data": {
            "text/plain": [
              "array([0.02 , 0.013, 0.128, 0.002, 0.175, 0.045, 0.054, 0.106, 0.038,\n",
              "       0.021, 0.01 , 0.014, 0.016, 0.033])"
            ]
          },
          "execution_count": 14,
          "metadata": {},
          "output_type": "execute_result"
        }
      ],
      "source": [
        "freq_pos, freq_neg = compute_class_freqs(train_generator.labels)\n",
        "freq_pos"
      ]
    },
    {
      "cell_type": "markdown",
      "metadata": {
        "id": "gsJIDPTZn5yW"
      },
      "source": [
        "##### Expected output\n",
        "\n",
        "```Python\n",
        "array([0.02 , 0.013, 0.128, 0.002, 0.175, 0.045, 0.054, 0.106, 0.038,\n",
        "       0.021, 0.01 , 0.014, 0.016, 0.033])\n",
        "```\n",
        "\n",
        "\n",
        "Let's visualize these two contribution ratios next to each other for each of the pathologies:"
      ]
    },
    {
      "cell_type": "code",
      "execution_count": null,
      "metadata": {
        "colab": {
          "base_uri": "https://localhost:8080/",
          "height": 363
        },
        "id": "IqnNCu4In5yW",
        "outputId": "245f1a6b-b292-4c6d-a583-c6924bc61f31",
        "scrolled": false
      },
      "outputs": [
        {
          "data": {
            "image/png": "[encoded data removed]",
            "text/plain": [
              "<Figure size 432x288 with 1 Axes>"
            ]
          },
          "metadata": {},
          "output_type": "display_data"
        }
      ],
      "source": [
        "data = pd.DataFrame({\"Class\": labels, \"Label\": \"Positive\", \"Value\": freq_pos})\n",
        "data = data.append([{\"Class\": labels[l], \"Label\": \"Negative\", \"Value\": v} for l,v in enumerate(freq_neg)], ignore_index=True)\n",
        "\n",
        "plt.xticks(rotation=90)\n",
        "f = sns.barplot(x=\"Class\", y=\"Value\", hue=\"Label\" ,data=data)"
      ]
    },
    {
      "cell_type": "markdown",
      "metadata": {
        "id": "2uvttCM8n5yY"
      },
      "source": [
        "As we see in the above plot, the contributions of positive cases is significantly lower than that of the negative ones. However, we want the contributions to be equal. One way of doing this is by multiplying each example from each class by a class-specific weight factor, $w_{pos}$ and $w_{neg}$, so that the overall contribution of each class is the same. \n",
        "\n",
        "To have this, we want \n",
        "\n",
        "$$w_{pos} \\times freq_{p} = w_{neg} \\times freq_{n},$$\n",
        "\n",
        "which we can do simply by taking \n",
        "\n",
        "$$w_{pos} = freq_{neg}$$\n",
        "$$w_{neg} = freq_{pos}$$\n",
        "\n",
        "This way, we will be balancing the contribution of positive and negative labels."
      ]
    },
    {
      "cell_type": "code",
      "execution_count": null,
      "metadata": {
        "id": "zs3_Rgwwn5yZ"
      },
      "outputs": [],
      "source": [
        "pos_weights = freq_neg\n",
        "neg_weights = freq_pos\n",
        "pos_contribution = freq_pos * pos_weights \n",
        "neg_contribution = freq_neg * neg_weights"
      ]
    },
    {
      "cell_type": "markdown",
      "metadata": {
        "id": "ygNZmdyun5ya"
      },
      "source": [
        "Let's verify this by graphing the two contributions next to each other again:"
      ]
    },
    {
      "cell_type": "code",
      "execution_count": null,
      "metadata": {
        "colab": {
          "base_uri": "https://localhost:8080/",
          "height": 380
        },
        "id": "LPfSFrxjn5yb",
        "outputId": "a4b6354f-ab39-4623-d44b-90cfd9b28506",
        "scrolled": true
      },
      "outputs": [
        {
          "data": {
            "image/png": "[encoded data removed]",
            "text/plain": [
              "<Figure size 432x288 with 1 Axes>"
            ]
          },
          "metadata": {},
          "output_type": "display_data"
        }
      ],
      "source": [
        "data = pd.DataFrame({\"Class\": labels, \"Label\": \"Positive\", \"Value\": pos_contribution})\n",
        "data = data.append([{\"Class\": labels[l], \"Label\": \"Negative\", \"Value\": v} \n",
        "                        for l,v in enumerate(neg_contribution)], ignore_index=True)\n",
        "plt.xticks(rotation=90)\n",
        "sns.barplot(x=\"Class\", y=\"Value\", hue=\"Label\" ,data=data);"
      ]
    },
    {
      "cell_type": "markdown",
      "metadata": {
        "id": "u9xgoEkpn5yc"
      },
      "source": [
        "As the above figure shows, by applying these weightings the positive and negative labels within each class would have the same aggregate contribution to the loss function. Now let's implement such a loss function. \n",
        "\n",
        "After computing the weights, our final weighted loss for each training case will be \n",
        "\n",
        "$$\\mathcal{L}_{cross-entropy}^{w}(x) = - (w_{p} y \\log(f(x)) + w_{n}(1-y) \\log( 1 - f(x) ) ).$$"
      ]
    },
    {
      "cell_type": "code",
      "execution_count": null,
      "metadata": {
        "id": "pPIBVAasn5yd"
      },
      "outputs": [],
      "source": [
        "def get_weighted_loss(pos_weights, neg_weights, epsilon=1e-7):\n",
        "    \"\"\"\n",
        "    Return weighted loss function given negative weights and positive weights.\n",
        "\n",
        "    Args:\n",
        "      pos_weights (np.array): array of positive weights for each class, size (num_classes)\n",
        "      neg_weights (np.array): array of negative weights for each class, size (num_classes)\n",
        "    \n",
        "    Returns:\n",
        "      weighted_loss (function): weighted loss function\n",
        "    \"\"\"\n",
        "    def weighted_loss(y_true, y_pred):\n",
        "        \"\"\"\n",
        "        Return weighted loss value. \n",
        "\n",
        "        Args:\n",
        "            y_true (Tensor): Tensor of true labels, size is (num_examples, num_classes)\n",
        "            y_pred (Tensor): Tensor of predicted labels, size is (num_examples, num_classes)\n",
        "        Returns:\n",
        "            loss (float): overall scalar loss summed across all classes\n",
        "        \"\"\"\n",
        "        # initialize loss to zero\n",
        "        loss = 0.0\n",
        "        \n",
        "        ### START CODE HERE (REPLACE INSTANCES OF 'None' with your code) ###\n",
        "\n",
        "        for i in range(len(pos_weights)):\n",
        "            # for each class, add average weighted loss for that class \n",
        "            loss += -K.mean( pos_weights[i]*y_true[:, i]* K.log(y_pred[:, i] + epsilon) \\\n",
        "                       \n",
        "                        + neg_weights[i]*(1 - y_true[:, i])* K.log(1 - y_pred[:, i] + epsilon) \\\n",
        "                            \n",
        "                        )#complete this line\n",
        "        return loss\n",
        "    \n",
        "        ### END CODE HERE ###\n",
        "    return weighted_loss"
      ]
    },
    {
      "cell_type": "code",
      "execution_count": null,
      "metadata": {
        "colab": {
          "base_uri": "https://localhost:8080/",
          "height": 595
        },
        "id": "CFjYda3Wulbm",
        "outputId": "87128f53-7a99-40e2-d09a-6539215879d0"
      },
      "outputs": [
        {
          "name": "stdout",
          "output_type": "stream",
          "text": [
            "y_true:\n",
            "[[1. 1. 1.]\n",
            " [1. 1. 0.]\n",
            " [0. 1. 0.]\n",
            " [1. 0. 1.]]\n",
            "\n",
            "w_p:\n",
            "[0.25 0.25 0.5 ]\n",
            "\n",
            "w_n:\n",
            "[0.75 0.75 0.5 ]\n",
            "\n",
            "y_pred_1:\n",
            "[[0.7 0.7 0.7]\n",
            " [0.7 0.7 0.7]\n",
            " [0.7 0.7 0.7]\n",
            " [0.7 0.7 0.7]]\n",
            "\n",
            "y_pred_2:\n",
            "[[0.3 0.3 0.3]\n",
            " [0.3 0.3 0.3]\n",
            " [0.3 0.3 0.3]\n",
            " [0.3 0.3 0.3]]\n",
            "\n",
            "If you weighted them correctly, you'd expect the two losses to be the same.\n",
            "With epsilon = 1, your losses should be, L(y_pred_1) = -0.4956203 and L(y_pred_2) = -0.4956203\n",
            "\n",
            "Your outputs:\n",
            "\n",
            "L(y_pred_1) =  -0.4956203\n",
            "L(y_pred_2) =  -0.4956203\n",
            "Difference: L(y_pred_1) - L(y_pred_2) =  0.0 \n",
            "\n",
            "\u001b[92m All tests passed.\n"
          ]
        }
      ],
      "source": [
        "# test with a large epsilon in order to catch errors. \n",
        "# In order to pass the tests, set epsilon = 1\n",
        "epsilon = 1\n",
        "\n",
        "### do not edit anything below\n",
        "sess = K.get_session()\n",
        "get_weighted_loss_test(get_weighted_loss, epsilon, sess)"
      ]
    },
    {
      "cell_type": "markdown",
      "metadata": {
        "id": "V-VMpOGVhJI3"
      },
      "source": [
        "##### Expected output\n",
        "\n",
        "with epsilon = 1\n",
        "```Python\n",
        "Your outputs:\n",
        "\n",
        "L(y_pred_1) =  -0.4956203\n",
        "L(y_pred_2) =  -0.4956203\n",
        "Difference: L(y_pred_1) - L(y_pred_2) =  0.0 \n",
        "```\n",
        "```\n",
        " All tests passed.   \n",
        "```\n",
        "\n",
        "If you are missing something in your implementation, you will see a different set of losses for `L(y_pred_1)` and `L(y_pred_2)` (even though `L(y_pred_1)` and `L(y_pred_2)` will be the same)."
      ]
    },
    {
      "cell_type": "markdown",
      "metadata": {
        "id": "yDZQMmlgn5yh"
      },
      "source": [
        "<a name='3-2'></a>\n",
        "### 3.2 DenseNet121\n",
        "\n",
        "Next, we will use a pre-trained [DenseNet121](https://www.kaggle.com/pytorch/densenet121) model which we can load directly from Keras and then add two layers on top of it:\n",
        "1. A `GlobalAveragePooling2D` layer to get the average of the last convolution layers from DenseNet121.\n",
        "2. A `Dense` layer with `sigmoid` activation to get the prediction logits for each of our classes.\n",
        "\n",
        "We can set our custom loss function for the model by specifying the `loss` parameter in the `compile()` function."
      ]
    },
    {
      "cell_type": "code",
      "execution_count": null,
      "metadata": {
        "id": "gZlxoCTgn5yi",
        "scrolled": true
      },
      "outputs": [],
      "source": [
        "# create the base pre-trained model\n",
        "base_model = DenseNet121(weights='models/nih/densenet.hdf5', include_top=False)\n",
        "\n",
        "x = base_model.output\n",
        "\n",
        "# add a global spatial average pooling layer\n",
        "x = GlobalAveragePooling2D()(x)\n",
        "\n",
        "# and a logistic layer\n",
        "predictions = Dense(len(labels), activation=\"sigmoid\")(x)\n",
        "\n",
        "model = Model(inputs=base_model.input, outputs=predictions)\n",
        "model.compile(optimizer='adam', loss=get_weighted_loss(pos_weights, neg_weights))"
      ]
    },
    {
      "cell_type": "markdown",
      "metadata": {
        "id": "BcwhQdOAn5ym"
      },
      "source": [
        "<a name='4'></a>\n",
        "## 4. Training"
      ]
    },
    {
      "cell_type": "code",
      "source": [
        "history = model.fit_generator(train_generator, \n",
        "                              validation_data=valid_generator,\n",
        "                              steps_per_epoch=100, \n",
        "                              validation_steps=25, \n",
        "                              epochs = 3)\n",
        "\n",
        "plt.plot(history.history['loss'])\n",
        "plt.ylabel(\"loss\")\n",
        "plt.xlabel(\"epoch\")\n",
        "plt.title(\"Training Loss Curve\")\n",
        "plt.show()"
      ],
      "metadata": {
        "id": "quR4XQNgijw1"
      },
      "execution_count": null,
      "outputs": []
    },
    {
      "cell_type": "code",
      "execution_count": null,
      "metadata": {
        "id": "887bSajLn5yq"
      },
      "outputs": [],
      "source": [
        "model.load_weights(\"models/nih/pretrained_model.h5\")"
      ]
    },
    {
      "cell_type": "markdown",
      "metadata": {
        "id": "mA90g8n6suRV"
      },
      "source": [
        "<a name='5'></a>\n",
        "## 5. Prediction and Evaluation"
      ]
    },
    {
      "cell_type": "markdown",
      "metadata": {
        "id": "Kz1BEwOyxFbj"
      },
      "source": [
        "Now that we have a model, let's evaluate it using our test set. We can conveniently use the `predict_generator` function to generate the predictions for the images in our test set.\n",
        "\n",
        "**Note:** The following cell can take about 4 minutes to run."
      ]
    },
    {
      "cell_type": "code",
      "execution_count": null,
      "metadata": {
        "id": "QzNrhtf1w2bI",
        "scrolled": true
      },
      "outputs": [],
      "source": [
        "predicted_vals = model.predict_generator(test_generator, steps = len(test_generator))"
      ]
    },
    {
      "cell_type": "markdown",
      "metadata": {
        "id": "wtjCtaGen5yt"
      },
      "source": [
        "<a name='5-1'></a>\n",
        "### 5.1 ROC Curve and AUROC\n",
        "We'll cover topic of model evaluation in much more detail in later weeks, but for now we'll walk through computing a metric called the AUC (Area Under the Curve) from the ROC ([Receiver Operating Characteristic](https://en.wikipedia.org/wiki/Receiver_operating_characteristic)) curve. This is also referred to as the AUROC value, but you will see all three terms in reference to the technique, and often used almost interchangeably. \n",
        "\n",
        "For now, what you need to know in order to interpret the plot is that a curve that is more to the left and the top has more \"area\" under it, and indicates that the model is performing better.\n",
        "\n",
        "We will use the `util.get_roc_curve()` function which has been provided for you in `util.py`. Look through this function and note the use of the `sklearn` library functions to generate the ROC curves and AUROC values for our model. \n",
        "\n",
        "- [roc_curve](https://scikit-learn.org/stable/modules/generated/sklearn.metrics.roc_curve.html)\n",
        "- [roc_auc_score](https://scikit-learn.org/stable/modules/generated/sklearn.metrics.roc_auc_score.html)"
      ]
    },
    {
      "cell_type": "code",
      "execution_count": null,
      "metadata": {
        "colab": {
          "base_uri": "https://localhost:8080/",
          "height": 621
        },
        "id": "6SLI8FHun5yw",
        "outputId": "4f5cc99c-4e1a-421b-fe2d-637df32d6416",
        "scrolled": false
      },
      "outputs": [
        {
          "data": {
            "image/png": "[encoded data removed]",
            "text/plain": [
              "<Figure size 720x720 with 1 Axes>"
            ]
          },
          "metadata": {},
          "output_type": "display_data"
        }
      ],
      "source": [
        "auc_rocs = util.get_roc_curve(labels, predicted_vals, test_generator)"
      ]
    }
  ],
  "metadata": {
    "accelerator": "GPU",
    "colab": {
      "collapsed_sections": [],
      "name": "Chest X-Ray Medical Diagnosis.ipynb",
      "provenance": []
    },
    "coursera": {
      "schema_names": [
        "AI4MC1-1"
      ]
    },
    "kernelspec": {
      "display_name": "Python 3",
      "language": "python",
      "name": "python3"
    },
    "language_info": {
      "codemirror_mode": {
        "name": "ipython",
        "version": 3
      },
      "file_extension": ".py",
      "mimetype": "text/x-python",
      "name": "python",
      "nbconvert_exporter": "python",
      "pygments_lexer": "ipython3",
      "version": "3.6.3"
    }
  },
  "nbformat": 4,
  "nbformat_minor": 0
}